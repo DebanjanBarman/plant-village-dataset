{
 "cells": [
  {
   "cell_type": "code",
   "execution_count": null,
   "id": "3e0a6901-c7cb-4e9a-a815-53d1094d21fd",
   "metadata": {},
   "outputs": [],
   "source": [
    "import numpy as np\n",
    "import cv2\n",
    "\n",
    "def preprocess_image_and_mask(image_path, mask_path):\n",
    "    # Load the image and mask\n",
    "    image = cv2.imread(image_path)  # Shape: (H, W, 3)\n",
    "    mask = cv2.imread(mask_path, cv2.IMREAD_GRAYSCALE)  # Shape: (H, W)\n",
    "\n",
    "    # Ensure the mask is in 3 channels (same as image)\n",
    "    mask = np.expand_dims(mask, axis=-1)  # Shape: (H, W, 1)\n",
    "    mask = np.repeat(mask, 3, axis=-1)  # Shape: (H, W, 3)\n",
    "\n",
    "    # Resize the image and mask if necessary (to a consistent size, e.g., 224x224)\n",
    "    image = cv2.resize(image, (224, 224))  # Resize to 224x224\n",
    "    mask = cv2.resize(mask, (224, 224))  # Resize to 224x224\n",
    "\n",
    "    # Concatenate the image and mask\n",
    "    combined_input = np.concatenate([image, mask], axis=-1)  # Shape: (224, 224, 6)\n",
    "    \n",
    "    return combined_input\n"
   ]
  }
 ],
 "metadata": {
  "kernelspec": {
   "display_name": "Python 3 (ipykernel)",
   "language": "python",
   "name": "python3"
  },
  "language_info": {
   "codemirror_mode": {
    "name": "ipython",
    "version": 3
   },
   "file_extension": ".py",
   "mimetype": "text/x-python",
   "name": "python",
   "nbconvert_exporter": "python",
   "pygments_lexer": "ipython3",
   "version": "3.9.13"
  }
 },
 "nbformat": 4,
 "nbformat_minor": 5
}
