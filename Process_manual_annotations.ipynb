{
 "cells": [
  {
   "cell_type": "code",
   "execution_count": 8,
   "id": "28bdfb9c-ebd3-4db5-a69f-97935cf4a78b",
   "metadata": {},
   "outputs": [],
   "source": [
    "import os\n",
    "import sys\n",
    "import shutil\n",
    "import subprocess\n",
    "from glob import glob\n"
   ]
  },
  {
   "cell_type": "code",
   "execution_count": 9,
   "id": "f21997ec-293b-44ec-8e3a-8401b078e197",
   "metadata": {},
   "outputs": [
    {
     "name": "stdout",
     "output_type": "stream",
     "text": [
      "['.git', '.gitignore', '.ipynb_checkpoints', 'dataset', 'plant-image-identification-with-SAM.ipynb', 'Plant_Disease_Dataset_Unified', 'predicted_masks', 'Process_manual_annotations.ipynb', 'requirements.txt', 'segment-anything', 'venv']\n"
     ]
    }
   ],
   "source": [
    "print(os.listdir())"
   ]
  },
  {
   "cell_type": "code",
   "execution_count": null,
   "id": "530251a7-4b9f-4a39-8f14-a41ae1cce90b",
   "metadata": {},
   "outputs": [],
   "source": []
  },
  {
   "cell_type": "code",
   "execution_count": 5,
   "id": "3e0a90e7-68ab-4151-8a24-0033cff05a00",
   "metadata": {},
   "outputs": [
    {
     "name": "stdout",
     "output_type": "stream",
     "text": [
      "Processed: ./Plant_Disease_Dataset_Unified/train/images/Apple___Cedar_apple_rust\\0a41c25a-f9a6-4c34-8e5c-7f89a6ac4c40___FREC_C.Rust 9807.json\n",
      "Processed: ./Plant_Disease_Dataset_Unified/train/images/Apple___Cedar_apple_rust\\0cd24b0c-0a9d-483f-8734-5c08988e029f___FREC_C.Rust 3762_newGRR.json\n",
      "Processed: ./Plant_Disease_Dataset_Unified/train/images/Apple___Cedar_apple_rust\\0ce943e7-3fed-41cb-8430-0e0f54ff2bc4___FREC_C.Rust 0014.json\n",
      "Processed: ./Plant_Disease_Dataset_Unified/train/images/Apple___Cedar_apple_rust\\0fbdccdc-fb96-475a-92bb-65734592c895___FREC_C.Rust 3619.json\n",
      "Processed: ./Plant_Disease_Dataset_Unified/train/images/Apple___Cedar_apple_rust\\0fbdccdc-fb96-475a-92bb-65734592c895___FREC_C.Rust 3619_90deg.json\n",
      "Processed: ./Plant_Disease_Dataset_Unified/train/images/Apple___Cedar_apple_rust\\1a67f47d-d35d-4c47-a336-af8ec6141113___FREC_C.Rust 4404.json\n",
      "Processed: ./Plant_Disease_Dataset_Unified/train/images/Apple___Cedar_apple_rust\\1a69060b-e45e-4d95-881c-f6d1960dffcd___FREC_C.Rust 0065.json\n",
      "Processed: ./Plant_Disease_Dataset_Unified/train/images/Apple___Cedar_apple_rust\\1a80b84d-1a5a-4e23-8deb-823ba928e29a___FREC_C.Rust 4431.json\n",
      "Processed: ./Plant_Disease_Dataset_Unified/train/images/Apple___Cedar_apple_rust\\1cfc6e73-1d86-4fb9-bffb-010163531711___FREC_C.Rust 3944.json\n",
      "Processed: ./Plant_Disease_Dataset_Unified/train/images/Apple___Cedar_apple_rust\\1e099d8e-b40c-4cf3-bb52-4e77b5a2dc69___FREC_C.Rust 0155_90deg.json\n"
     ]
    }
   ],
   "source": [
    "import os\n",
    "import json\n",
    "import cv2\n",
    "import numpy as np\n",
    "from PIL import Image\n",
    "from glob import glob\n",
    "\n",
    "def json_to_mask(json_file, output_root, input_root):\n",
    "    with open(json_file, 'r') as f:\n",
    "        data = json.load(f)\n",
    "\n",
    "    img_width = data['imageWidth']\n",
    "    img_height = data['imageHeight']\n",
    "    mask = np.zeros((img_height, img_width), dtype=np.uint8)\n",
    "\n",
    "    for shape in data['shapes']:\n",
    "        points = np.array(shape['points'], dtype=np.int32)\n",
    "        label = shape['label'].lower()\n",
    "\n",
    "        if label == \"cedar apple rust\":\n",
    "            cv2.fillPoly(mask, [points], 255)\n",
    "\n",
    "    # 🟢 Keep the full relative path of the JSON (like Apple___Apple_scab/leaf1.json)\n",
    "    relative_path = os.path.relpath(json_file, input_root)\n",
    "    mask_path = os.path.join(output_root, relative_path).replace('.json', '.png')\n",
    "\n",
    "    # 🟢 Make sure the parent folder exists\n",
    "    os.makedirs(os.path.dirname(mask_path), exist_ok=True)\n",
    "\n",
    "    Image.fromarray(mask).save(mask_path)\n",
    "\n",
    "\n",
    "\n",
    "def process_all_json_files(input_root, output_root):\n",
    "    json_files = glob(os.path.join(input_root, \"**/*.json\"), recursive=True)\n",
    "    for json_path in json_files:\n",
    "        json_to_mask(json_path, output_root, input_root)\n",
    "        print(f\"Processed: {json_path}\")\n",
    "\n",
    "# Example usage: Process all JSON files in the 'train/images' directory of PlantVillage\n",
    "output_root = \"./dataset/masks/Apple___Cedar_apple_rust\"  # Directory where masks will be saved\n",
    "input_root = \"./Plant_Disease_Dataset_Unified/train/images/Apple___Cedar_apple_rust\"  # Root directory for all images and annotations\n",
    "\n",
    "process_all_json_files(input_root, output_root)\n",
    "\n",
    "# need to put the correct directory path and the disease name to generete the masks\n"
   ]
  },
  {
   "cell_type": "code",
   "execution_count": null,
   "id": "ba3b64ab-c901-4d95-a7ae-def0d30a8278",
   "metadata": {},
   "outputs": [],
   "source": []
  },
  {
   "cell_type": "code",
   "execution_count": null,
   "id": "c4fdde4f-b487-413d-9e3f-650092ea97ed",
   "metadata": {},
   "outputs": [],
   "source": []
  },
  {
   "cell_type": "code",
   "execution_count": null,
   "id": "334cee85-ed22-4279-9737-f9a7b9b1019d",
   "metadata": {},
   "outputs": [],
   "source": []
  }
 ],
 "metadata": {
  "kernelspec": {
   "display_name": "Python 3 (ipykernel)",
   "language": "python",
   "name": "python3"
  },
  "language_info": {
   "codemirror_mode": {
    "name": "ipython",
    "version": 3
   },
   "file_extension": ".py",
   "mimetype": "text/x-python",
   "name": "python",
   "nbconvert_exporter": "python",
   "pygments_lexer": "ipython3",
   "version": "3.9.13"
  }
 },
 "nbformat": 4,
 "nbformat_minor": 5
}
