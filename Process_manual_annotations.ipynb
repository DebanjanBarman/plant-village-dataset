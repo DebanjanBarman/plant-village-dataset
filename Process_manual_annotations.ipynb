{
 "cells": [
  {
   "cell_type": "code",
   "execution_count": 4,
   "id": "28bdfb9c-ebd3-4db5-a69f-97935cf4a78b",
   "metadata": {},
   "outputs": [],
   "source": [
    "import os\n",
    "import sys\n",
    "import shutil\n",
    "import subprocess\n",
    "from glob import glob\n"
   ]
  },
  {
   "cell_type": "code",
   "execution_count": 5,
   "id": "f21997ec-293b-44ec-8e3a-8401b078e197",
   "metadata": {},
   "outputs": [
    {
     "name": "stdout",
     "output_type": "stream",
     "text": [
      "['.git', '.gitignore', '.ipynb_checkpoints', 'dataset', 'plant-image-identification-with-SAM.ipynb', 'Plant_Disease_Dataset_Unified', 'Process_manual_annotations.ipynb', 'requirements.txt', 'segment-anything', 'venv']\n"
     ]
    }
   ],
   "source": [
    "print(os.listdir())"
   ]
  },
  {
   "cell_type": "code",
   "execution_count": null,
   "id": "530251a7-4b9f-4a39-8f14-a41ae1cce90b",
   "metadata": {},
   "outputs": [],
   "source": []
  },
  {
   "cell_type": "code",
   "execution_count": 2,
   "id": "3e0a90e7-68ab-4151-8a24-0033cff05a00",
   "metadata": {},
   "outputs": [
    {
     "name": "stdout",
     "output_type": "stream",
     "text": [
      "Processed: ./Plant_Disease_Dataset_Unified/train/images/Grape___Black_rot\\00cab05d-e87b-4cf6-87d8-284f3ec99626___FAM_B.Rot 3244.json\n"
     ]
    }
   ],
   "source": [
    "import os\n",
    "import json\n",
    "import cv2\n",
    "import numpy as np\n",
    "from PIL import Image\n",
    "from glob import glob\n",
    "\n",
    "def json_to_mask(json_file, output_root, input_root):\n",
    "    with open(json_file, 'r') as f:\n",
    "        data = json.load(f)\n",
    "\n",
    "    img_width = data['imageWidth']\n",
    "    img_height = data['imageHeight']\n",
    "    mask = np.zeros((img_height, img_width), dtype=np.uint8)\n",
    "\n",
    "    for shape in data['shapes']:\n",
    "        points = np.array(shape['points'], dtype=np.int32)\n",
    "        label = shape['label'].lower()\n",
    "\n",
    "        if label == \"grape black rot\":\n",
    "            cv2.fillPoly(mask, [points], 255)\n",
    "\n",
    "    # 🟢 Keep the full relative path of the JSON (like Apple___Apple_scab/leaf1.json)\n",
    "    relative_path = os.path.relpath(json_file, input_root)\n",
    "    mask_path = os.path.join(output_root, relative_path).replace('.json', '.png')\n",
    "\n",
    "    # 🟢 Make sure the parent folder exists\n",
    "    os.makedirs(os.path.dirname(mask_path), exist_ok=True)\n",
    "\n",
    "    Image.fromarray(mask).save(mask_path)\n",
    "\n",
    "\n",
    "\n",
    "def process_all_json_files(input_root, output_root):\n",
    "    json_files = glob(os.path.join(input_root, \"**/*.json\"), recursive=True)\n",
    "    for json_path in json_files:\n",
    "        json_to_mask(json_path, output_root, input_root)\n",
    "        print(f\"Processed: {json_path}\")\n",
    "\n",
    "# Example usage: Process all JSON files in the 'train/images' directory of PlantVillage\n",
    "output_root = \"./dataset/masks/Grape___Black_rot\"  # Directory where masks will be saved\n",
    "input_root = \"./Plant_Disease_Dataset_Unified/train/images/Grape___Black_rot\"  # Root directory for all images and annotations\n",
    "\n",
    "process_all_json_files(input_root, output_root)\n",
    "\n",
    "# need to put the correct directory path and the disease name to generete the masks\n"
   ]
  },
  {
   "cell_type": "code",
   "execution_count": null,
   "id": "ba3b64ab-c901-4d95-a7ae-def0d30a8278",
   "metadata": {},
   "outputs": [],
   "source": []
  }
 ],
 "metadata": {
  "kernelspec": {
   "display_name": "Python 3 (ipykernel)",
   "language": "python",
   "name": "python3"
  },
  "language_info": {
   "codemirror_mode": {
    "name": "ipython",
    "version": 3
   },
   "file_extension": ".py",
   "mimetype": "text/x-python",
   "name": "python",
   "nbconvert_exporter": "python",
   "pygments_lexer": "ipython3",
   "version": "3.9.13"
  }
 },
 "nbformat": 4,
 "nbformat_minor": 5
}
